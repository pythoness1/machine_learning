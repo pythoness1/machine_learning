{
 "cells": [
  {
   "cell_type": "markdown",
   "metadata": {},
   "source": [
    "![image info](https://raw.githubusercontent.com/albahnsen/MIAD_ML_and_NLP/main/images/banner_1.png)"
   ]
  },
  {
   "cell_type": "markdown",
   "metadata": {},
   "source": [
    "# Taller: Tokenización de textos  \n",
    "\n",
    "En este taller podrán poner en práctica sus conocimientos sobre preprocesamiento de texto (tokenización). El taller está constituido por 5 puntos, en los cuales deberan seguir las intrucciones de cada numeral para su desarrollo."
   ]
  },
  {
   "cell_type": "markdown",
   "metadata": {},
   "source": [
    "## Datos detección de toxicidad en comentarios\n",
    "\n",
    "En este taller se usará el conjunto de datos de detección de toxicidad en comentarios de la base de datos de Kaggle. Cada observación es un comentario que tiene como variable objetivo (target) la probabilidad de ser un comentario tóxico. El objetivo es predecir la toxicidad de cada comentario. Para más detalles pueden visitar el siguiente enlace: [datos](https://www.kaggle.com/c/jigsaw-unintended-bias-in-toxicity-classification/data)."
   ]
  },
  {
   "cell_type": "code",
   "execution_count": 1,
   "metadata": {},
   "outputs": [],
   "source": [
    "import warnings\n",
    "warnings.filterwarnings('ignore')"
   ]
  },
  {
   "cell_type": "code",
   "execution_count": 2,
   "metadata": {},
   "outputs": [],
   "source": [
    "# Importación librerías\n",
    "import pandas as pd\n",
    "import numpy as np\n",
    "import scipy as sp\n",
    "from sklearn.model_selection import train_test_split, cross_val_score\n",
    "from sklearn.feature_extraction.text import CountVectorizer, TfidfVectorizer\n",
    "from sklearn import metrics\n",
    "%matplotlib inline"
   ]
  },
  {
   "cell_type": "code",
   "execution_count": 3,
   "metadata": {},
   "outputs": [
    {
     "data": {
      "text/html": [
       "<div>\n",
       "<style scoped>\n",
       "    .dataframe tbody tr th:only-of-type {\n",
       "        vertical-align: middle;\n",
       "    }\n",
       "\n",
       "    .dataframe tbody tr th {\n",
       "        vertical-align: top;\n",
       "    }\n",
       "\n",
       "    .dataframe thead th {\n",
       "        text-align: right;\n",
       "    }\n",
       "</style>\n",
       "<table border=\"1\" class=\"dataframe\">\n",
       "  <thead>\n",
       "    <tr style=\"text-align: right;\">\n",
       "      <th></th>\n",
       "      <th>id</th>\n",
       "      <th>comment_text</th>\n",
       "      <th>target</th>\n",
       "    </tr>\n",
       "  </thead>\n",
       "  <tbody>\n",
       "    <tr>\n",
       "      <th>0</th>\n",
       "      <td>6101457</td>\n",
       "      <td>What are you talking about? What group do Pete...</td>\n",
       "      <td>0.0</td>\n",
       "    </tr>\n",
       "    <tr>\n",
       "      <th>1</th>\n",
       "      <td>5342103</td>\n",
       "      <td>NO!, Let him, we need a Conservative government.</td>\n",
       "      <td>0.0</td>\n",
       "    </tr>\n",
       "    <tr>\n",
       "      <th>2</th>\n",
       "      <td>743361</td>\n",
       "      <td>Perhaps he took the \"power out of the Cardinal...</td>\n",
       "      <td>0.2</td>\n",
       "    </tr>\n",
       "    <tr>\n",
       "      <th>3</th>\n",
       "      <td>551008</td>\n",
       "      <td>As always, yours is dripping with sarcasm, whi...</td>\n",
       "      <td>0.0</td>\n",
       "    </tr>\n",
       "    <tr>\n",
       "      <th>4</th>\n",
       "      <td>865998</td>\n",
       "      <td>The dirty little secret is that the price rang...</td>\n",
       "      <td>0.3</td>\n",
       "    </tr>\n",
       "  </tbody>\n",
       "</table>\n",
       "</div>"
      ],
      "text/plain": [
       "        id                                       comment_text  target\n",
       "0  6101457  What are you talking about? What group do Pete...     0.0\n",
       "1  5342103   NO!, Let him, we need a Conservative government.     0.0\n",
       "2   743361  Perhaps he took the \"power out of the Cardinal...     0.2\n",
       "3   551008  As always, yours is dripping with sarcasm, whi...     0.0\n",
       "4   865998  The dirty little secret is that the price rang...     0.3"
      ]
     },
     "execution_count": 3,
     "metadata": {},
     "output_type": "execute_result"
    }
   ],
   "source": [
    "# Carga de datos de archivos .csv\n",
    "df = pd.read_csv('https://raw.githubusercontent.com/albahnsen/MIAD_ML_and_NLP/main/datasets/Toxicity.zip')\n",
    "df = df[['id','comment_text', 'target']]\n",
    "df.head()"
   ]
  },
  {
   "cell_type": "code",
   "execution_count": 4,
   "metadata": {},
   "outputs": [
    {
     "data": {
      "text/plain": [
       "<AxesSubplot:>"
      ]
     },
     "execution_count": 4,
     "metadata": {},
     "output_type": "execute_result"
    },
    {
     "data": {
      "image/png": "[encoded data removed]",
      "text/plain": [
       "<Figure size 432x288 with 1 Axes>"
      ]
     },
     "metadata": {
      "needs_background": "light"
     },
     "output_type": "display_data"
    }
   ],
   "source": [
    "# Impresión histograma de variable de interés (y)\n",
    "df.target.hist()"
   ]
  },
  {
   "cell_type": "code",
   "execution_count": 5,
   "metadata": {},
   "outputs": [
    {
     "data": {
      "text/plain": [
       "count    541462.000000\n",
       "mean          0.102991\n",
       "std           0.196979\n",
       "min           0.000000\n",
       "25%           0.000000\n",
       "50%           0.000000\n",
       "75%           0.166667\n",
       "max           1.000000\n",
       "Name: target, dtype: float64"
      ]
     },
     "execution_count": 5,
     "metadata": {},
     "output_type": "execute_result"
    }
   ],
   "source": [
    "# Separación de variable de interés (y)\n",
    "y = df.target\n",
    "y.describe()"
   ]
  },
  {
   "cell_type": "code",
   "execution_count": 6,
   "metadata": {},
   "outputs": [],
   "source": [
    "# Separación de variables predictoras (X), solo se considera el texto de la noticia\n",
    "X = df.comment_text"
   ]
  },
  {
   "cell_type": "code",
   "execution_count": 7,
   "metadata": {},
   "outputs": [],
   "source": [
    "# Separación de datos en set de entrenamiento y test\n",
    "X_train, X_test, y_train, y_test = train_test_split(X, y, test_size=0.33, random_state=42)"
   ]
  },
  {
   "cell_type": "markdown",
   "metadata": {},
   "source": [
    "## Punto 1 - Tokenización con CountVectorizer\n",
    "\n",
    "En la celda 1 creen y entrenen el modelo de regresión de su preferencia, para que prediga la probabilidad de que un comentario sea tóxico, usando los set de entrenamiento y test definidos anteriormente. Usen la función **CountVectorizer** para preprocesar los comentarios y presenten el desempeño del modelo con la métrica del MSE.\n",
    "\n",
    "Recuerden que el preprocesamiento que se haga sobre los datos de entrenamiento  (*.fit_transform()*) deben ser aplicado al set de test (*.transform()*)."
   ]
  },
  {
   "cell_type": "code",
   "execution_count": 9,
   "metadata": {},
   "outputs": [
    {
     "name": "stdout",
     "output_type": "stream",
     "text": [
      "Caracteristicas: 72931\n",
      "El error (rmse) de test es: 0.17598610305301485\n"
     ]
    }
   ],
   "source": [
    "# Celda 1\n",
    "from sklearn.ensemble import RandomForestRegressor\n",
    "from sklearn.metrics import mean_squared_error\n",
    "\n",
    "vect_A = CountVectorizer(max_df=0.95, min_df=2, stop_words='english')\n",
    "X_train_dtm_A = vect_A.fit_transform(X_train)\n",
    "\n",
    "modeloA = RandomForestRegressor(\n",
    "            n_estimators = 10,\n",
    "            max_depth    = 10,\n",
    "            criterion    = 'mse',\n",
    "            oob_score    = False,\n",
    "            n_jobs       = -1,\n",
    "            random_state = 42\n",
    "         )\n",
    "modeloA.fit(X_train_dtm_A, y_train)\n",
    "\n",
    "X_test_dtm_A = vect_A.transform(X_test)\n",
    "prediccionesA = modeloA.predict(X_test_dtm_A)\n",
    "\n",
    "mse1 = mean_squared_error(\n",
    "        y_true  = y_test,\n",
    "        y_pred  = prediccionesA,\n",
    "        squared = False\n",
    "       )\n",
    "print(f\"Caracteristicas: {X_train_dtm_A.shape[1]}\")\n",
    "print(f\"El error (rmse) de test es: {mse1}\")"
   ]
  },
  {
   "cell_type": "markdown",
   "metadata": {},
   "source": [
    "## Punto 2 - Tokenización con CountVectorizer y trigramas\n",
    "\n",
    "En la celda 2 creen y entrenen el mismo modelo de regresión del punto anterior (es decir si usaron un RandomForestRegresor usen nuevamente ese regresor), para que prediga la probabilidad de que un comentario sea tóxico, usando los set de entrenamiento y test definidos anteriormente. Usen la función CountVectorizer **considerando trigramas** para preprocesar los comentarios y presenten el desempeño del modelo con la métrica del MSE.\n",
    "\n",
    "Recuerden que el preprocesamiento que se haga sobre los datos de entrenamiento  (*.fit_transform()*) deben ser aplicado al set de test (*.transform()*)."
   ]
  },
  {
   "cell_type": "code",
   "execution_count": 10,
   "metadata": {},
   "outputs": [
    {
     "name": "stdout",
     "output_type": "stream",
     "text": [
      "Caracteristicas: 12512259\n",
      "El error (rmse) de test es: 0.1975599013904297\n"
     ]
    }
   ],
   "source": [
    "# Celda 2\n",
    "vect_B = CountVectorizer(stop_words='english', ngram_range=(1, 3))\n",
    "X_train_dtm_B = vect_B.fit_transform(X_train)\n",
    "\n",
    "modeloB = RandomForestRegressor(\n",
    "            n_estimators = 10,\n",
    "            max_depth    = 10,\n",
    "            criterion    = 'mse',\n",
    "            max_features = 100,\n",
    "            oob_score    = False,\n",
    "            n_jobs       = -1,\n",
    "            random_state = 42\n",
    "         )\n",
    "modeloB.fit(X_train_dtm_B, y_train)\n",
    "\n",
    "X_test_dtm_B = vect_B.transform(X_test)\n",
    "prediccionesB = modeloB.predict(X_test_dtm_B)\n",
    "\n",
    "mse2 = mean_squared_error(\n",
    "        y_true  = y_test,\n",
    "        y_pred  = prediccionesB,\n",
    "        squared = False\n",
    "       )\n",
    "print(f\"Caracteristicas: {X_train_dtm_B.shape[1]}\")\n",
    "print(f\"El error (rmse) de test es: {mse2}\")"
   ]
  },
  {
   "cell_type": "markdown",
   "metadata": {},
   "source": [
    "## Punto 3 - TfidfVectorizer\n",
    "\n",
    "Investigen sobre la función TfidfVectorizer. En la celda de texto 3, expliquen en qué consiste esta técnica de tokenización (describanla y expliquen su funcionamiento) y cúales son las ventajas o deventajas de su uso al compararlo con la función CountVectorizer."
   ]
  },
  {
   "cell_type": "markdown",
   "metadata": {},
   "source": [
    "#Celda 3\n",
    "TF-IDF es una abreviacion de Term Frequency Inverse Document Frequency. Este es un algoritmo muy comun para transformar texto en una representacion de la importancia de las palabras en numeros.\n",
    "Este algoritmo pondera el uso de una determinada palabra dentro de un documento y supone por lo tanto un elemento importante y relevante para la clasificación de documentos. El valor de importancia de una palabra en un documento se calcula con la siguiente expresion: TF*IDF, donde:\n",
    "\n",
    "TF: Frecuencia de términos\n",
    "La frecuencia de una palabra determinada en un documento, es sencillamente la cantidad de veces que aparece dicha palabra en el documento sobre la cantidad total de palabras en el documento.\n",
    "TF = Numero total de la palabra en el documento / Numero total de palabras en el documento\n",
    "\n",
    "IDF: Frecuencia inversa de documento\n",
    "Disminuye el peso de aquéllas palabras que se repiten mucho en el total de los documentos y le otorga mayor valor a esas palabras menos frecuentes.\n",
    "DF = Numero total de documentos / Numero total de documentos con la palabra\n",
    "\n",
    "La principal diferencia entre CountVectorizer y TfidfVectorizer es que CountVectorizer solo cuenta cuántas veces aparece cada palabra en un documento, mientras que TfidfVectorizer también tiene en cuenta cuán común o rara es esa palabra en todos los documentos.\n",
    "\n",
    "Algunas ventajas y desventajas de usar TfidfVectorizer son:\n",
    "\n",
    "Puede ayudar a reducir el impacto de las palabras comunes que no son muy informativas como “el”, “la”, “de”\n",
    "Resaltar las palabras importantes que son específicas de cada documento.\n",
    "Puede ser más lento y requerir más memoria que CountVectorizer.\n",
    "Puede no ser adecuado para todas las aplicaciones, ya que a veces la frecuencia bruta de las palabras puede ser más importante que su importancia relativa."
   ]
  },
  {
   "cell_type": "markdown",
   "metadata": {},
   "source": [
    "## Punto 4 - Tokenización con TfidfVectorizer\n",
    "\n",
    "En la celda 4 creen y entrenen el mismo modelo de regresión del primer punto, para que prediga la probabilidad de que un comentario sea tóxico, usando los set de entrenamiento y test definidos anteriormente. Procesen los comentarios con la función **TfidfVectorizer** y presenten el desempeño del modelo con la métrica del MSE.\n",
    "\n",
    "Recuerden que el preprocesamiento que se haga sobre los datos de entrenamiento  (*.fit_transform()*) deben ser aplicado al set de test (*.transform()*)."
   ]
  },
  {
   "cell_type": "code",
   "execution_count": 11,
   "metadata": {},
   "outputs": [
    {
     "name": "stdout",
     "output_type": "stream",
     "text": [
      "Caracteristicas: 140862\n",
      "El error (rmse) de test es: 0.17485175083887516\n"
     ]
    }
   ],
   "source": [
    "# Celda 4\n",
    "from sklearn.feature_extraction.text import TfidfVectorizer\n",
    "\n",
    "tfidfvectorizer = TfidfVectorizer(analyzer='word',stop_words= 'english')\n",
    "X_train_tfidf  = tfidfvectorizer.fit_transform(X_train)\n",
    "\n",
    "modeloC = RandomForestRegressor(\n",
    "            n_estimators = 10,\n",
    "            max_depth    = 10,\n",
    "            criterion    = 'mse',\n",
    "            max_features = 'auto',\n",
    "            oob_score    = False,\n",
    "            n_jobs       = -1,\n",
    "            random_state = 42\n",
    "         )\n",
    "modeloC.fit(X_train_tfidf, y_train)\n",
    "\n",
    "X_test_tfidf = tfidfvectorizer.transform(X_test)\n",
    "prediccionesC = modeloC.predict(X_test_tfidf)\n",
    "\n",
    "mse3 = mean_squared_error(\n",
    "        y_true  = y_test,\n",
    "        y_pred  = prediccionesC,\n",
    "        squared = False\n",
    "       )\n",
    "print(f\"Caracteristicas: {X_train_tfidf.shape[1]}\")\n",
    "print(f\"El error (rmse) de test es: {mse3}\")"
   ]
  },
  {
   "cell_type": "markdown",
   "metadata": {},
   "source": [
    "## Punto 5 - Comparación y análisis de resultados\n",
    "\n",
    "En la celda 5 comparen los resultados obtenidos de los diferentes modelos y comenten cómo el preprocesamiento de texto afecta el desempeño."
   ]
  },
  {
   "cell_type": "code",
   "execution_count": 13,
   "metadata": {},
   "outputs": [
    {
     "data": {
      "image/png": "[encoded data removed]",
      "text/plain": [
       "<Figure size 432x288 with 1 Axes>"
      ]
     },
     "metadata": {
      "needs_background": "light"
     },
     "output_type": "display_data"
    }
   ],
   "source": [
    "# Celda 5\n",
    "\n",
    "mse_values = [mse1, mse2, mse3]\n",
    "model_names = ['CountVectorizer', 'CountVectorizer + trigramas', 'TfidfVectorizer']\n",
    "\n",
    "import matplotlib.pyplot as plt\n",
    "\n",
    "plt.bar(model_names, mse_values)\n",
    "for i in range(len(model_names)):\n",
    "    plt.text(i, mse_values[i], str(mse_values[i]), ha='center')\n",
    "plt.xlabel('Modelos')\n",
    "plt.ylabel('MSE')\n",
    "plt.title('Comparación de MSE entre modelos')\n",
    "plt.xticks(rotation=45)\n",
    "plt.show()\n",
    "\n"
   ]
  },
  {
   "cell_type": "markdown",
   "metadata": {},
   "source": [
    "Al evaluar el desempeño de los 3 modelos por su MSE, vemos que el modelo que utilizó TfidfVectorizer obtuvo el MSE más bajo, \n",
    "lo que sugiere que este preprocesamiento de texto fue más efectivo para capturar las características relevantes del conjunto\n",
    "de datos y reducir el error de predicción.\n",
    "\n",
    "La elección de la técnica de preprocesamiento de texto depende de la naturaleza del problema y del conjunto de datos en sí. \n",
    "Por ejemplo se puede usar CountVectorizer para conjuntos de datos en los que se quiera identificar las palabras más comunes\n",
    "y evitar que las palabras más frecuentes dominen las características del modelo. TfidfVectorizer puede ser más útil cuando \n",
    "se quiera dar más peso a las palabras menos frecuentes pero importantes en todo el conjunto de documentos. CountVectorizer\n",
    "con trigramas puede ser útil para capturar secuencias de tres palabras significativas en el texto. \n",
    "\n",
    "En conclusión, es importante evaluar varias posibilidades a la hora de escoger una forma de procesar los datos."
   ]
  }
 ],
 "metadata": {
  "kernelspec": {
   "display_name": "Python 3 (ipykernel)",
   "language": "python",
   "name": "python3"
  },
  "language_info": {
   "codemirror_mode": {
    "name": "ipython",
    "version": 3
   },
   "file_extension": ".py",
   "mimetype": "text/x-python",
   "name": "python",
   "nbconvert_exporter": "python",
   "pygments_lexer": "ipython3",
   "version": "3.9.12"
  },
  "name": "_merged"
 },
 "nbformat": 4,
 "nbformat_minor": 4
}
